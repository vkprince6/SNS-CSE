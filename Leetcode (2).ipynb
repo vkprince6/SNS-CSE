{
  "nbformat": 4,
  "nbformat_minor": 0,
  "metadata": {
    "colab": {
      "provenance": []
    },
    "kernelspec": {
      "name": "python3",
      "display_name": "Python 3"
    },
    "language_info": {
      "name": "python"
    }
  },
  "cells": [
    {
      "cell_type": "code",
      "source": [
        "# @title Reverse Integer – #7 https://leetcode.com/problems/reverse-integer/\n",
        "class Solution:\n",
        "    def reverse(self, x: int) -> int:\n",
        "        # Handle negative numbers\n",
        "        sign = -1 if x < 0 else 1\n",
        "        x = abs(x)\n",
        "\n",
        "        # Reverse the digits of the integer\n",
        "        reversed_x = 0\n",
        "        while x != 0:\n",
        "            # Pop the last digit\n",
        "            digit = x % 10\n",
        "            x //= 10\n",
        "\n",
        "            # Push the digit into the reversed integer\n",
        "            reversed_x = reversed_x * 10 + digit\n",
        "\n",
        "        # Apply the sign to the result\n",
        "        reversed_x *= sign\n",
        "\n",
        "        # Check for overflow: 32-bit signed integer range is [-2^31, 2^31 - 1]\n",
        "        if reversed_x < -2**31 or reversed_x > 2**31 - 1:\n",
        "            return 0\n",
        "\n",
        "        return reversed_x\n"
      ],
      "metadata": {
        "cellView": "form",
        "id": "h792Mp1-cLHd"
      },
      "execution_count": null,
      "outputs": []
    },
    {
      "cell_type": "code",
      "execution_count": null,
      "metadata": {
        "cellView": "form",
        "id": "F9_nfRkoY-h6"
      },
      "outputs": [],
      "source": [
        "# @title Default Roman to Integer – #13 https://leetcode.com/problems/roman-to-integer/\n",
        "class Solution:\n",
        "    def romanToInt(self, s: str) -> int:\n",
        "        # Mapping of Roman numerals to integers\n",
        "        roman_map = {\n",
        "            'I': 1, 'V': 5, 'X': 10, 'L': 50,\n",
        "            'C': 100, 'D': 500, 'M': 1000\n",
        "        }\n",
        "\n",
        "        # Initialize the result integer\n",
        "        total = 0\n",
        "\n",
        "        # Iterate over the string, checking each character\n",
        "        for i in range(len(s) - 1):\n",
        "            # If current numeral is smaller than the next one, subtract it\n",
        "            if roman_map[s[i]] < roman_map[s[i + 1]]:\n",
        "                total -= roman_map[s[i]]\n",
        "            else:\n",
        "                total += roman_map[s[i]]\n",
        "\n",
        "        # Add the last numeral's value (always add it)\n",
        "        total += roman_map[s[-1]]\n",
        "\n",
        "        return total\n"
      ]
    },
    {
      "cell_type": "code",
      "source": [
        "# @title Problem: Valid Parentheses (LeetCode #20)  https://leetcode.com/problems/valid-parentheses/\n",
        "\n",
        "class Solution:\n",
        "    def isValid(self, s: str) -> bool:\n",
        "        # Stack to keep track of opening parentheses\n",
        "        stack = []\n",
        "\n",
        "        # Mapping of closing parentheses to their corresponding opening parentheses\n",
        "        mapping = {')': '(', '}': '{', ']': '['}\n",
        "\n",
        "        # Iterate through each character in the string\n",
        "        for char in s:\n",
        "            # If it's a closing parenthesis\n",
        "            if char in mapping:\n",
        "                # Pop the top element from the stack, or use a dummy value if the stack is empty\n",
        "                top_element = stack.pop() if stack else '#'\n",
        "\n",
        "                # If the popped element doesn't match the corresponding opening parenthesis, return False\n",
        "                if mapping[char] != top_element:\n",
        "                    return False\n",
        "            else:\n",
        "                # If it's an opening parenthesis, push it onto the stack\n",
        "                stack.append(char)\n",
        "\n",
        "        # If the stack is empty, all the parentheses were matched correctly\n",
        "        return not stack\n"
      ],
      "metadata": {
        "cellView": "form",
        "id": "Wsf1RNc6eTHp"
      },
      "execution_count": null,
      "outputs": []
    },
    {
      "cell_type": "code",
      "source": [
        "# @title Problem: Merge Two Sorted Lists (LeetCode #21) https://leetcode.com/problems/merge-two-sorted-lists/\n",
        "\n",
        "class ListNode:\n",
        "    def __init__(self, val=0, next=None):\n",
        "        self.val = val\n",
        "        self.next = next\n",
        "\n",
        "class Solution:\n",
        "    def mergeTwoLists(self, l1: ListNode, l2: ListNode) -> ListNode:\n",
        "        # Create a dummy node to simplify edge cases\n",
        "        dummy = ListNode()\n",
        "        current = dummy\n",
        "\n",
        "        # Traverse both lists\n",
        "        while l1 and l2:\n",
        "            if l1.val < l2.val:\n",
        "                current.next = l1\n",
        "                l1 = l1.next\n",
        "            else:\n",
        "                current.next = l2\n",
        "                l2 = l2.next\n",
        "            current = current.next\n",
        "\n",
        "        # If one list is not empty, append it to the result\n",
        "        if l1:\n",
        "            current.next = l1\n",
        "        elif l2:\n",
        "            current.next = l2\n",
        "\n",
        "        # Return the merged list starting from the node after the dummy node\n",
        "        return dummy.next\n"
      ],
      "metadata": {
        "cellView": "form",
        "id": "1490dmMHe6eX"
      },
      "execution_count": null,
      "outputs": []
    },
    {
      "cell_type": "code",
      "source": [
        "# @title Problem: Remove Element (LeetCode #27) - https://leetcode.com/problems/remove-element/\n",
        "\n",
        "class Solution:\n",
        "    def removeElement(self, nums: list[int], val: int) -> int:\n",
        "        # Initialize a pointer for the new array\n",
        "        k = 0\n",
        "\n",
        "        # Traverse the original array\n",
        "        for i in range(len(nums)):\n",
        "            # If the current element is not the value to be removed, move it to the 'k' index\n",
        "            if nums[i] != val:\n",
        "                nums[k] = nums[i]\n",
        "                k += 1\n",
        "\n",
        "        # Return the new length of the array\n",
        "        return k\n",
        "\n"
      ],
      "metadata": {
        "cellView": "form",
        "id": "mw0OtA41fCHw"
      },
      "execution_count": null,
      "outputs": []
    },
    {
      "cell_type": "code",
      "source": [
        "# @title Problem: Implement strStr() (LeetCode #28) - https://leetcode.com/problems/implement-strstr/\n",
        "\n",
        "class Solution:\n",
        "    def strStr(self, haystack: str, needle: str) -> int:\n",
        "        # If needle is an empty string, return 0\n",
        "        if needle == \"\":\n",
        "            return 0\n",
        "\n",
        "        # Get the lengths of haystack and needle\n",
        "        n, m = len(haystack), len(needle)\n",
        "\n",
        "        # If the needle is longer than the haystack, it cannot be found\n",
        "        if m > n:\n",
        "            return -1\n",
        "\n",
        "        # Iterate through the haystack and compare substrings\n",
        "        for i in range(n - m + 1):\n",
        "            if haystack[i:i+m] == needle:\n",
        "                return i\n",
        "\n",
        "        # If needle is not found, return -1\n",
        "        return -1\n"
      ],
      "metadata": {
        "cellView": "form",
        "id": "D3E3jFr5fM2m"
      },
      "execution_count": null,
      "outputs": []
    },
    {
      "cell_type": "code",
      "source": [
        "# @title Problem: Length of Last Word (LeetCode #58) - https://leetcode.com/problems/length-of-last-word/\n",
        "\n",
        "class Solution:\n",
        "    def lengthOfLastWord(self, s: str) -> int:\n",
        "        # Strip leading and trailing spaces\n",
        "        s = s.strip()\n",
        "\n",
        "        # Find the last word by splitting the string on spaces\n",
        "        words = s.split()\n",
        "\n",
        "        # Return the length of the last word\n",
        "        return len(words[-1])"
      ],
      "metadata": {
        "cellView": "form",
        "id": "9DVtgNesfbBJ"
      },
      "execution_count": null,
      "outputs": []
    },
    {
      "cell_type": "code",
      "source": [
        "# @title Problem: Plus One (LeetCode #66) -  https://leetcode.com/problems/plus-one/\n",
        "\n",
        "class Solution:\n",
        "    def plusOne(self, digits: list[int]) -> list[int]:\n",
        "        # Start from the last digit and move to the left\n",
        "        for i in range(len(digits) - 1, -1, -1):\n",
        "            # If the current digit is less than 9, add one and return\n",
        "            if digits[i] < 9:\n",
        "                digits[i] += 1\n",
        "                return digits\n",
        "            # If the current digit is 9, set it to 0 and continue the carry\n",
        "            digits[i] = 0\n",
        "\n",
        "        # If we have completed the loop, all digits were 9, so we add 1 at the beginning\n",
        "        return [1] + digits\n",
        "\n"
      ],
      "metadata": {
        "cellView": "form",
        "id": "oenvZEi5fmqq"
      },
      "execution_count": null,
      "outputs": []
    },
    {
      "cell_type": "code",
      "source": [
        "# @title Problem: Add Binary (LeetCode #67) - https://leetcode.com/problems/add-binary/\n",
        "\n",
        "\n",
        "class Solution:\n",
        "    def addBinary(self, a: str, b: str) -> str:\n",
        "        # Initialize variables\n",
        "        result = []\n",
        "        carry = 0\n",
        "        i, j = len(a) - 1, len(b) - 1\n",
        "\n",
        "        # Iterate through both strings from right to left\n",
        "        while i >= 0 or j >= 0 or carry:\n",
        "            # Add the bits from a, b and carry\n",
        "            bit_a = int(a[i]) if i >= 0 else 0\n",
        "            bit_b = int(b[j]) if j >= 0 else 0\n",
        "\n",
        "            # Sum the bits and carry\n",
        "            total = bit_a + bit_b + carry\n",
        "            result.append(str(total % 2))  # Append the result bit (0 or 1)\n",
        "            carry = total // 2  # Update the carry (1 or 0)\n",
        "\n",
        "            # Move to the next bits in a and b\n",
        "            i -= 1\n",
        "            j -= 1\n",
        "\n",
        "        # The result array is in reverse order, so reverse it before joining\n",
        "        return ''.join(result[::-1])\n"
      ],
      "metadata": {
        "cellView": "form",
        "id": "UrcloRR7fwa4"
      },
      "execution_count": null,
      "outputs": []
    },
    {
      "cell_type": "code",
      "source": [
        "# @title Problem: Sqrt(x) (LeetCode #69) - https://leetcode.com/problems/sqrtx/\n",
        "\n",
        "class Solution:\n",
        "    def mySqrt(self, x: int) -> int:\n",
        "        # Handle the case where x is 0\n",
        "        if x == 0:\n",
        "            return 0\n",
        "\n",
        "        left, right = 1, x\n",
        "\n",
        "        while left <= right:\n",
        "            mid = (left + right) // 2\n",
        "            if mid * mid == x:\n",
        "                return mid\n",
        "            elif mid * mid < x:\n",
        "                left = mid + 1\n",
        "            else:\n",
        "                right = mid - 1\n",
        "\n",
        "        return right\n"
      ],
      "metadata": {
        "cellView": "form",
        "id": "yDVsTFHEgGTz"
      },
      "execution_count": null,
      "outputs": []
    },
    {
      "cell_type": "code",
      "source": [
        "# @title Problem: Climbing Stairs (LeetCode #70) - https://leetcode.com/problems/climbing-stairs/\n",
        "\n",
        "class Solution:\n",
        "    def climbStairs(self, n: int) -> int:\n",
        "        # Handle the base cases\n",
        "        if n == 1:\n",
        "            return 1\n",
        "        if n == 2:\n",
        "            return 2\n",
        "\n",
        "        # Use dynamic programming to find the number of ways\n",
        "        prev1, prev2 = 2, 1\n",
        "\n",
        "        for i in range(3, n + 1):\n",
        "            current = prev1 + prev2  # ways to reach the i-th step\n",
        "            prev2 = prev1  # Update prev2 to the previous step\n",
        "            prev1 = current  # Update prev1 to the current step\n",
        "\n",
        "        return prev1\n",
        "\n"
      ],
      "metadata": {
        "cellView": "form",
        "id": "HGA56tNsgPtI"
      },
      "execution_count": null,
      "outputs": []
    },
    {
      "cell_type": "code",
      "source": [
        "# @title Problem: Maximum Subarray (LeetCode #53) - https://leetcode.com/problems/maximum-subarray/\n",
        "\n",
        "class Solution:\n",
        "    def maxSubArray(self, nums: list[int]) -> int:\n",
        "        # Initialize current_sum and max_sum with the first element\n",
        "        current_sum = max_sum = nums[0]\n",
        "\n",
        "        # Iterate over the array starting from the second element\n",
        "        for num in nums[1:]:\n",
        "            # Either add the current number to the current sum or start a new subarray\n",
        "            current_sum = max(current_sum + num, num)\n",
        "\n",
        "            # Update the maximum sum encountered so far\n",
        "            max_sum = max(max_sum, current_sum)\n",
        "\n",
        "        return max_sum\n",
        "\n"
      ],
      "metadata": {
        "cellView": "form",
        "id": "B2e6qAUDggEe"
      },
      "execution_count": null,
      "outputs": []
    },
    {
      "cell_type": "code",
      "source": [
        "# @title Problem: Best Time to Buy and Sell Stock (LeetCode #121) - https://leetcode.com/problems/best-time-to-buy-and-sell-stock/\n",
        "\n",
        "class Solution:\n",
        "    def maxProfit(self, prices: list[int]) -> int:\n",
        "        # Initialize min_price to a very large value and max_profit to 0\n",
        "        min_price = float('inf')\n",
        "        max_profit = 0\n",
        "\n",
        "        # Iterate over the prices to find the maximum profit\n",
        "        for price in prices:\n",
        "            # Update the min_price if the current price is lower\n",
        "            min_price = min(min_price, price)\n",
        "\n",
        "            # Calculate the current profit by selling at the current price\n",
        "            current_profit = price - min_price\n",
        "\n",
        "            # Update max_profit if the current profit is greater than the previous max\n",
        "            max_profit = max(max_profit, current_profit)\n",
        "\n",
        "        return max_profit\n",
        "\n"
      ],
      "metadata": {
        "cellView": "form",
        "id": "1GGQTqn5gnbO"
      },
      "execution_count": null,
      "outputs": []
    },
    {
      "cell_type": "code",
      "source": [
        "# @title Problem: Valid Palindrome (LeetCode #125) - https://leetcode.com/problems/valid-palindrome/\n",
        "\n",
        "class Solution:\n",
        "    def isPalindrome(self, s: str) -> bool:\n",
        "        # Remove non-alphanumeric characters and convert to lowercase\n",
        "        filtered_string = ''.join(c.lower() for c in s if c.isalnum())\n",
        "\n",
        "        # Check if the filtered string is equal to its reverse\n",
        "        return filtered_string == filtered_string[::-1]"
      ],
      "metadata": {
        "cellView": "form",
        "id": "_IHEa3ptgwgn"
      },
      "execution_count": null,
      "outputs": []
    },
    {
      "cell_type": "code",
      "source": [
        "# @title Problem: Single Number (LeetCode #136) -  https://leetcode.com/problems/single-number/\n",
        "\n",
        "class Solution:\n",
        "    def singleNumber(self, nums: list[int]) -> int:\n",
        "        result = 0\n",
        "        for num in nums:\n",
        "            result ^= num  # XOR the current number with the result\n",
        "        return result\n"
      ],
      "metadata": {
        "cellView": "form",
        "id": "VZmW0D2Sg63H"
      },
      "execution_count": null,
      "outputs": []
    },
    {
      "cell_type": "code",
      "source": [
        "# @title Problem: Intersection of Two Arrays II (LeetCode #350) -  https://leetcode.com/problems/intersection-of-two-arrays-ii/\n",
        "\n",
        "from collections import Counter\n",
        "\n",
        "class Solution:\n",
        "    def intersect(self, nums1: list[int], nums2: list[int]) -> list[int]:\n",
        "        # Count the frequency of each number in nums1\n",
        "        count1 = Counter(nums1)\n",
        "        result = []\n",
        "\n",
        "        # Traverse through nums2 and check if the element exists in count1\n",
        "        for num in nums2:\n",
        "            if count1[num] > 0:\n",
        "                result.append(num)  # Add the element to the result\n",
        "                count1[num] -= 1  # Decrease the count to avoid duplicates\n",
        "\n",
        "        return result\n"
      ],
      "metadata": {
        "cellView": "form",
        "id": "5_choXP2hCne"
      },
      "execution_count": null,
      "outputs": []
    },
    {
      "cell_type": "code",
      "source": [
        "# @title Problem: First Unique Character in a String (LeetCode #387) -  https://leetcode.com/problems/first-unique-character-in-a-string/\n",
        "\n",
        "from collections import Counter\n",
        "\n",
        "class Solution:\n",
        "    def firstUniqChar(self, s: str) -> int:\n",
        "        # Count the frequency of each character in the string\n",
        "        count = Counter(s)\n",
        "\n",
        "        # Traverse the string to find the first character with frequency 1\n",
        "        for i, char in enumerate(s):\n",
        "            if count[char] == 1:\n",
        "                return i\n",
        "\n",
        "        # If no unique character is found, return -1\n",
        "        return -1\n"
      ],
      "metadata": {
        "cellView": "form",
        "id": "B76IuASxhL1J"
      },
      "execution_count": null,
      "outputs": []
    },
    {
      "cell_type": "code",
      "source": [
        "# @title Problem: Ransom Note (LeetCode #383) - https://leetcode.com/problems/ransom-note/\n",
        "\n",
        "from collections import Counter\n",
        "\n",
        "class Solution:\n",
        "    def canConstruct(self, ransomNote: str, magazine: str) -> bool:\n",
        "        # Count the frequency of characters in both ransomNote and magazine\n",
        "        ransomNoteCount = Counter(ransomNote)\n",
        "        magazineCount = Counter(magazine)\n",
        "\n",
        "        # Check if all characters in ransomNote can be matched in magazine\n",
        "        for char, count in ransomNoteCount.items():\n",
        "            if magazineCount[char] < count:\n",
        "                return False\n",
        "        return True\n"
      ],
      "metadata": {
        "cellView": "form",
        "id": "sUIckLQFhV3M"
      },
      "execution_count": null,
      "outputs": []
    },
    {
      "cell_type": "code",
      "source": [
        "# @title Problem: Find the Difference (LeetCode #389) - https://leetcode.com/problems/find-the-difference/\n",
        "\n",
        "class Solution:\n",
        "    def findTheDifference(self, s: str, t: str) -> str:\n",
        "        # Initialize a variable to store the result (using XOR)\n",
        "        result = 0\n",
        "\n",
        "        # XOR all characters from both strings\n",
        "        for char in s + t:\n",
        "            result ^= ord(char)\n",
        "\n",
        "        # Convert the final result back to a character and return it\n",
        "        return chr(result)"
      ],
      "metadata": {
        "cellView": "form",
        "id": "yhAak_0lheVL"
      },
      "execution_count": null,
      "outputs": []
    },
    {
      "cell_type": "code",
      "source": [
        "# @title Problem: Island Perimeter (LeetCode #463) - https://leetcode.com/problems/island-perimeter/\n",
        "\n",
        "class Solution:\n",
        "    def islandPerimeter(self, grid: list[list[int]]) -> int:\n",
        "        perimeter = 0\n",
        "\n",
        "        # Traverse through every cell in the grid\n",
        "        for i in range(len(grid)):\n",
        "            for j in range(len(grid[0])):\n",
        "                # Check if the current cell is land (1)\n",
        "                if grid[i][j] == 1:\n",
        "                    # If the cell is land, check its four neighbors\n",
        "                    if i == 0 or grid[i-1][j] == 0:  # Top\n",
        "                        perimeter += 1\n",
        "                    if i == len(grid) - 1 or grid[i+1][j] == 0:  # Bottom\n",
        "                        perimeter += 1\n",
        "                    if j == 0 or grid[i][j-1] == 0:  # Left\n",
        "                        perimeter += 1\n",
        "                    if j == len(grid[0]) - 1 or grid[i][j+1] == 0:  # Right\n",
        "                        perimeter += 1\n",
        "\n",
        "        return perimeter\n"
      ],
      "metadata": {
        "cellView": "form",
        "id": "F3w-DQX3hprR"
      },
      "execution_count": null,
      "outputs": []
    }
  ]
}